{
 "cells": [
  {
   "cell_type": "code",
   "execution_count": 77,
   "id": "ecf1283f",
   "metadata": {},
   "outputs": [
    {
     "name": "stdout",
     "output_type": "stream",
     "text": [
      "Collecting openpyxl\n",
      "  Downloading openpyxl-3.0.9-py2.py3-none-any.whl (242 kB)\n",
      "Collecting et-xmlfile\n",
      "  Downloading et_xmlfile-1.1.0-py3-none-any.whl (4.7 kB)\n",
      "Installing collected packages: et-xmlfile, openpyxl\n",
      "Successfully installed et-xmlfile-1.1.0 openpyxl-3.0.9\n"
     ]
    },
    {
     "name": "stderr",
     "output_type": "stream",
     "text": [
      "WARNING: You are using pip version 21.1.1; however, version 21.3.1 is available.\n",
      "You should consider upgrading via the 'c:\\users\\yasser\\appdata\\local\\programs\\python\\python38\\python.exe -m pip install --upgrade pip' command.\n"
     ]
    }
   ],
   "source": [
    "!pip install openpyxl"
   ]
  },
  {
   "cell_type": "code",
   "execution_count": 74,
   "id": "2ff6baf9",
   "metadata": {},
   "outputs": [],
   "source": [
    "import re \n",
    "import nltk\n",
    "from nltk.stem import PorterStemmer\n",
    "from nltk import word_tokenize\n",
    "from nltk.corpus import stopwords\n",
    "import pandas as pd\n",
    "import json\n",
    "import pandas as pd "
   ]
  },
  {
   "cell_type": "code",
   "execution_count": 4,
   "id": "36410d13",
   "metadata": {},
   "outputs": [],
   "source": [
    "def remove_punct(book):\n",
    "    # Remove Punctuation using regex\n",
    "    return re.sub(r'[^\\w\\s]','', book)\n",
    "\n",
    "def remove_numbers(book):\n",
    "    # Remove Punctuation using regex\n",
    "    return re.sub('[^A-Za-z]+', ' ', book)\n",
    "\n",
    "def remove_stopwords(book):\n",
    "    pattern = re.compile(r'\\b(' + r'|'.join(stopwords.words('english')) + r')\\b\\s*')\n",
    "    return pattern.sub('', book.lower())\n",
    "\n",
    "def stemming(tokens):\n",
    "    ps = PorterStemmer()\n",
    "    return [ps.stem(t) for t in tokens]\n",
    "\n",
    "def tokenizer(text):\n",
    "    return word_tokenize(text)\n",
    "\n",
    "def case_fold(tokens):\n",
    "    return [word.lower() for word in tokens]"
   ]
  },
  {
   "cell_type": "code",
   "execution_count": 78,
   "id": "9dd159f0",
   "metadata": {
    "scrolled": true
   },
   "outputs": [
    {
     "data": {
      "text/html": [
       "<div>\n",
       "<style scoped>\n",
       "    .dataframe tbody tr th:only-of-type {\n",
       "        vertical-align: middle;\n",
       "    }\n",
       "\n",
       "    .dataframe tbody tr th {\n",
       "        vertical-align: top;\n",
       "    }\n",
       "\n",
       "    .dataframe thead th {\n",
       "        text-align: right;\n",
       "    }\n",
       "</style>\n",
       "<table border=\"1\" class=\"dataframe\">\n",
       "  <thead>\n",
       "    <tr style=\"text-align: right;\">\n",
       "      <th></th>\n",
       "      <th>Medicine_name</th>\n",
       "      <th>Ther_area</th>\n",
       "      <th>URL</th>\n",
       "    </tr>\n",
       "  </thead>\n",
       "  <tbody>\n",
       "    <tr>\n",
       "      <th>0</th>\n",
       "      <td>Qtern</td>\n",
       "      <td>Diabetes</td>\n",
       "      <td>https://www.ema.europa.eu/en/medicines/human/E...</td>\n",
       "    </tr>\n",
       "    <tr>\n",
       "      <th>2</th>\n",
       "      <td>Blitzima</td>\n",
       "      <td>Lymphoma</td>\n",
       "      <td>https://www.ema.europa.eu/en/medicines/human/E...</td>\n",
       "    </tr>\n",
       "    <tr>\n",
       "      <th>5</th>\n",
       "      <td>Hexacima</td>\n",
       "      <td>Hepatitis</td>\n",
       "      <td>https://www.ema.europa.eu/en/medicines/human/E...</td>\n",
       "    </tr>\n",
       "    <tr>\n",
       "      <th>7</th>\n",
       "      <td>Iclusig</td>\n",
       "      <td>Leukemia</td>\n",
       "      <td>https://www.ema.europa.eu/en/medicines/human/E...</td>\n",
       "    </tr>\n",
       "    <tr>\n",
       "      <th>8</th>\n",
       "      <td>Hexyon</td>\n",
       "      <td>Hepatitis</td>\n",
       "      <td>https://www.ema.europa.eu/en/medicines/human/E...</td>\n",
       "    </tr>\n",
       "  </tbody>\n",
       "</table>\n",
       "</div>"
      ],
      "text/plain": [
       "  Medicine_name  Ther_area                                                URL\n",
       "0         Qtern   Diabetes  https://www.ema.europa.eu/en/medicines/human/E...\n",
       "2      Blitzima   Lymphoma  https://www.ema.europa.eu/en/medicines/human/E...\n",
       "5      Hexacima  Hepatitis  https://www.ema.europa.eu/en/medicines/human/E...\n",
       "7       Iclusig   Leukemia  https://www.ema.europa.eu/en/medicines/human/E...\n",
       "8        Hexyon  Hepatitis  https://www.ema.europa.eu/en/medicines/human/E..."
      ]
     },
     "execution_count": 78,
     "metadata": {},
     "output_type": "execute_result"
    }
   ],
   "source": [
    "df = pd.read_excel('drug_data.xlsx', names=['Category', 'Medicine_name', 'Ther_area',\n",
    "       'International non-proprietary name (INN) / common name',\n",
    "       'Active_substance', 'Product number', 'Patient safety',\n",
    "       'Authorisation status', 'ATC code', 'Additional monitoring', 'Generic',\n",
    "       'Biosimilar', 'Conditional approval', 'Exceptional circumstances',\n",
    "       'Accelerated assessment', 'Orphan medicine',\n",
    "       'Marketing authorisation date',\n",
    "       'Date of refusal of marketing authorisation',\n",
    "       'company_name',\n",
    "       'pharm_group', 'Vet pharmacotherapeutic group',\n",
    "       'Date of opinion', 'Decision date', 'Revision number',\n",
    "       'description', 'Species', 'ATCvet code', 'First published',\n",
    "       'Revision date', 'URL'])\n",
    "\n",
    "df.drop(columns=['Category',  'International non-proprietary name (INN) / common name',\n",
    "       'Active_substance', 'Product number', 'Patient safety',\n",
    "       'Authorisation status', 'ATC code', 'Additional monitoring', 'Generic',\n",
    "       'Biosimilar', 'Conditional approval', 'Exceptional circumstances',\n",
    "       'Accelerated assessment', 'Orphan medicine',\n",
    "       'Marketing authorisation date',\n",
    "       'Date of refusal of marketing authorisation',\n",
    "       'company_name',\n",
    "       'pharm_group', 'Vet pharmacotherapeutic group',\n",
    "       'Date of opinion', 'Decision date', 'Revision number',\n",
    "       'description', 'Species', 'ATCvet code', 'First published',\n",
    "       'Revision date',], inplace=True)\n",
    "\n",
    "cat_df = pd.DataFrame(df.Ther_area.str.split(',').str[0].str.split(';').str[0].str.split(' ').str[0].value_counts())\n",
    "df.Ther_area = df.Ther_area.str.split(',').str[0].str.split(';').str[0].str.split(' ').str[0]\n",
    "df = df[df.Ther_area.isin(cat_df.Ther_area[:20].index)]\n",
    "df.head()"
   ]
  },
  {
   "cell_type": "code",
   "execution_count": 92,
   "id": "772f17ee",
   "metadata": {},
   "outputs": [],
   "source": [
    "result = df[df.Ther_area == 'Diabetes'][['Medicine_name','URL']][:3]"
   ]
  },
  {
   "cell_type": "code",
   "execution_count": 121,
   "id": "6096126c",
   "metadata": {},
   "outputs": [
    {
     "name": "stderr",
     "output_type": "stream",
     "text": [
      "[nltk_data] Downloading package stopwords to\n",
      "[nltk_data]     C:\\Users\\Yasser\\AppData\\Roaming\\nltk_data...\n",
      "[nltk_data]   Package stopwords is already up-to-date!\n",
      "[nltk_data] Downloading package punkt to\n",
      "[nltk_data]     C:\\Users\\Yasser\\AppData\\Roaming\\nltk_data...\n",
      "[nltk_data]   Package punkt is already up-to-date!\n"
     ]
    }
   ],
   "source": [
    "from flask import Flask, jsonify, request, render_template\n",
    "from sklearn import model_selection, preprocessing, linear_model\n",
    "from sklearn.feature_extraction.text import TfidfVectorizer, CountVectorizer\n",
    "app = Flask(\"name\")\n",
    "\n",
    "import pickle \n",
    "nltk.download('stopwords')\n",
    "nltk.download('punkt')\n",
    "\n",
    "filename = 'finalized_model.sav'\n",
    "# load the model from disk\n",
    "models = pickle.load(open(filename, 'rb'))\n",
    "\n",
    "model = models['model']\n",
    "lenc = models['label_encoder']\n",
    "tf_idf = models['tf_idf'] \n",
    "tfidf_obj_names = models['tf_idf_names']\n",
    "\n",
    "@app.route('/', methods = ['GET', 'POST', 'DELETE'])\n",
    "def home1(name='diabetes'):\n",
    "    req = request.get_json(force=True)\n",
    "    print(req['queryResult']['queryText'])\n",
    "    name = req['queryResult']['queryText']\n",
    "    punc = remove_punct(name)\n",
    "    num = remove_numbers(punc)\n",
    "    stop = remove_stopwords(num)\n",
    "    tokens = tokenizer(stop)\n",
    "    folded = case_fold(tokens)\n",
    "    stem = stemming(folded)\n",
    "    desc = ' '.join(stem)\n",
    "    tf_idf1 = tf_idf.transform([desc])\n",
    "    pred = model.predict(pd.DataFrame(tf_idf1.toarray(), columns=tfidf_obj_names))\n",
    "    class_name = lenc.inverse_transform(pred)\n",
    "    result = df[df.Ther_area == class_name[0]][['Medicine_name','URL']][:3]\n",
    "    return {\n",
    "        \"fulfillmentText\": \"This is the suitable medicine for you \" +result['Medicine_name'].values[0]+ \"and you can check the link \"+result['URL'].values[0] + \" and i recommend this also for you \\n\"+ \n",
    "        result['Medicine_name'].values[1]+\" : \" +result['URL'].values[1]+\"\\n\"+\n",
    "        result['Medicine_name'].values[2]+\" : \" +result['URL'].values[2]\n",
    "        \n",
    "    }\n",
    "    return json.loads('{\"fulfillmentText\":\"'+ \"I recommend these Drugs for U \"+class_name[0]+'\"}')\n",
    "#     return class_names[loaded_model.predict(verctor_count.transform([name]))[0]]"
   ]
  },
  {
   "cell_type": "code",
   "execution_count": 122,
   "id": "d59e10de",
   "metadata": {
    "scrolled": false
   },
   "outputs": [
    {
     "name": "stdout",
     "output_type": "stream",
     "text": [
      " * Serving Flask app 'name' (lazy loading)\n",
      " * Environment: production\n",
      "\u001b[31m   WARNING: This is a development server. Do not use it in a production deployment.\u001b[0m\n",
      "\u001b[2m   Use a production WSGI server instead.\u001b[0m\n",
      " * Debug mode: off\n"
     ]
    },
    {
     "name": "stderr",
     "output_type": "stream",
     "text": [
      " * Running on http://127.0.0.1:5000/ (Press CTRL+C to quit)\n",
      "127.0.0.1 - - [05/Dec/2021 00:26:23] \"POST / HTTP/1.1\" 200 -\n"
     ]
    },
    {
     "name": "stdout",
     "output_type": "stream",
     "text": [
      "Vaccine\n"
     ]
    }
   ],
   "source": [
    "app.run()"
   ]
  }
 ],
 "metadata": {
  "kernelspec": {
   "display_name": "Python 3 (ipykernel)",
   "language": "python",
   "name": "python3"
  },
  "language_info": {
   "codemirror_mode": {
    "name": "ipython",
    "version": 3
   },
   "file_extension": ".py",
   "mimetype": "text/x-python",
   "name": "python",
   "nbconvert_exporter": "python",
   "pygments_lexer": "ipython3",
   "version": "3.8.10"
  }
 },
 "nbformat": 4,
 "nbformat_minor": 5
}
